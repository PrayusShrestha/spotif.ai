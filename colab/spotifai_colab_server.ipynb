{
  "cells": [
    {
      "cell_type": "code",
      "execution_count": null,
      "metadata": {
        "colab": {
          "background_save": true
        },
        "id": "BFQqOKHoBkw4"
      },
      "outputs": [],
      "source": [
        "!pip install fastapi\n",
        "!pip install colabcode"
      ]
    },
    {
      "cell_type": "code",
      "execution_count": null,
      "metadata": {
        "colab": {
          "background_save": true
        },
        "id": "e-8rqd16IrST"
      },
      "outputs": [],
      "source": [
        "from pydantic import BaseModel\n",
        "from typing import List\n",
        "\n",
        "class Texts(BaseModel):\n",
        "  texts: List[str]"
      ]
    },
    {
      "cell_type": "code",
      "execution_count": null,
      "metadata": {
        "id": "cn3kqp4r-mPF"
      },
      "outputs": [],
      "source": [
        "from fastapi import FastAPI\n",
        "import tensorflow_hub as hub\n",
        "\n",
        "app = FastAPI()\n",
        "\n",
        "@app.on_event(\"startup\")\n",
        "def load_model():\n",
        "  global embed\n",
        "  embed = hub.load(\"https://tfhub.dev/google/universal-sentence-encoder/4\")\n",
        "\n",
        "@app.get(\"/\")\n",
        "def get():\n",
        "  return 200\n",
        "\n",
        "@app.get(\"/vector\")\n",
        "def get_vector(data: Texts):\n",
        "  # print(data)\n",
        "  request = data.dict()\n",
        "  #print(request)\n",
        "  texts = request[\"texts\"]\n",
        "\n",
        "  vectors = []\n",
        "\n",
        "  for text in texts:\n",
        "    vectors.append(embed([text]).numpy().tolist())\n",
        "\n",
        "  #print(vectors)\n",
        "\n",
        "  return { \"vectors\": vectors } # idk why but vector is a list of one list and im too lazy to figure out why\n",
        "\n",
        "\n"
      ]
    },
    {
      "cell_type": "code",
      "execution_count": null,
      "metadata": {
        "id": "duG7rg-DBD3F"
      },
      "outputs": [],
      "source": [
        "from colabcode import ColabCode\n",
        "server = ColabCode(port=10000, code=False)"
      ]
    },
    {
      "cell_type": "code",
      "execution_count": null,
      "metadata": {
        "colab": {
          "background_save": true
        },
        "id": "2LY2ghduBIra"
      },
      "outputs": [],
      "source": [
        "server.run_app(app=app)"
      ]
    }
  ],
  "metadata": {
    "colab": {
      "collapsed_sections": [],
      "name": "Untitled1.ipynb",
      "provenance": []
    },
    "kernelspec": {
      "display_name": "Python 3",
      "name": "python3"
    },
    "language_info": {
      "name": "python"
    }
  },
  "nbformat": 4,
  "nbformat_minor": 0
}